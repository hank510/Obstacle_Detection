{
 "cells": [
  {
   "cell_type": "code",
   "execution_count": null,
   "metadata": {},
   "outputs": [],
   "source": [
    "# for converting images to high boost filtered images\n",
    "import cv2\n",
    "import glob\n",
    "\n",
    "count = 0\n",
    "folder = 'C:\\\\Users\\\\Vrushank Anand\\\\Documents\\\\College Related\\\\Semester 7\\\\Project_Ykm_Sir\\\\Raw_Photos(train_val)\\\\val\\\\Object\\\\*'\n",
    "for n,filename in enumerate (glob.glob(folder)):\n",
    "        img = cv2.imread(filename)\n",
    "        gauss = cv2.GaussianBlur(img, (7,7), 0) \n",
    "        sharp_image = cv2.addWeighted(img, 2, gauss, -1, 0) \n",
    "        cv2.imwrite('C:\\\\Users\\\\Vrushank Anand\\\\Documents\\\\College Related\\\\Semester 7\\\\Project_Ykm_Sir\\\\Normalized_High_Boost_Filtered_Photos\\\\val\\\\Object\\\\image{}.jpg'.format(n), sharp_image)\n",
    "        count = count + 1\n",
    "print(\"All images high boost filtered\", count)"
   ]
  },
  {
   "cell_type": "code",
   "execution_count": null,
   "metadata": {},
   "outputs": [],
   "source": [
    "#for converting images to high pass filtered images\n",
    "import cv2\n",
    "import glob\n",
    "\n",
    "count = 0\n",
    "folder = 'C:\\\\Users\\\\Vrushank Anand\\\\Documents\\\\College Related\\\\Semester 7\\\\Project_Ykm_Sir\\\\Raw_Photos(train_val)\\\\val\\\\Object\\\\*'\n",
    "for n,filename in enumerate (glob.glob(folder)):\n",
    "        img = cv2.imread(filename)\n",
    "        gauss = cv2.GaussianBlur(img, (21,21), 3) \n",
    "        sharp_image = img - gauss\n",
    "        cv2.imwrite('C:\\\\Users\\\\Vrushank Anand\\\\Documents\\\\College Related\\\\Semester 7\\\\Project_Ykm_Sir\\\\Normalized_High_Pass_Filtered_Photos\\\\val\\\\Object\\\\image{}.jpg'.format(n), sharp_image)\n",
    "        count = count + 1\n",
    "print(\"All images high pass filtered\", count)"
   ]
  },
  {
   "cell_type": "code",
   "execution_count": null,
   "metadata": {},
   "outputs": [],
   "source": [
    "#for converting images to canny filtered images\n",
    "import cv2\n",
    "import glob\n",
    "\n",
    "count = 0\n",
    "folder = 'C:\\\\Users\\\\Vrushank Anand\\\\Documents\\\\College Related\\\\Semester 7\\\\Project_Ykm_Sir\\\\Raw_Photos(train_val)\\\\train\\\\Object\\\\*'\n",
    "for n,filename in enumerate (glob.glob(folder)):\n",
    "        img = cv2.imread(filename)\n",
    "        canny = cv2.Canny(img, 0, 200) \n",
    "#         sharp_image = img - gauss\n",
    "        cv2.imwrite('C:\\\\Users\\\\Vrushank Anand\\\\Documents\\\\College Related\\\\Semester 7\\\\Project_Ykm_Sir\\\\Canny_Filtered_Photos\\\\train\\\\Object\\\\image{}.jpg'.format(n), canny)\n",
    "        count = count + 1\n",
    "print(\"All images high pass filtered\", count)"
   ]
  },
  {
   "cell_type": "code",
   "execution_count": null,
   "metadata": {},
   "outputs": [],
   "source": [
    "#for converting images to normalized high pass filtered images\n",
    "import cv2\n",
    "import glob\n",
    "import numpy as np\n",
    "\n",
    "count = 0\n",
    "folder = 'C:\\\\Users\\\\Vrushank Anand\\\\Documents\\\\College Related\\\\Semester 7\\\\Project_Ykm_Sir\\\\Raw_Photos(train_val)\\\\train\\\\Object\\\\*'\n",
    "for n,filename in enumerate (glob.glob(folder)):\n",
    "        img = cv2.imread(filename)\n",
    "        gauss = cv2.GaussianBlur(img, (21,21), 3) \n",
    "        sharp_image = img - gauss\n",
    "        normalized_image = np.zeros((800, 800))\n",
    "        normalized_image = cv2.normalize(sharp_image, normalized_image, -127, 128, cv2.NORM_MINMAX)\n",
    "        cv2.imwrite('C:\\\\Users\\\\Vrushank Anand\\\\Documents\\\\College Related\\\\Semester 7\\\\Project_Ykm_Sir\\\\Normalized_High_Pass_Filtered_Photos\\\\train\\\\Object\\\\image{}.jpg'.format(n), normalized_image)\n",
    "        count = count + 1\n",
    "print(\"All images high pass filtered\", count)"
   ]
  }
 ],
 "metadata": {
  "kernelspec": {
   "display_name": "Python 3",
   "language": "python",
   "name": "python3"
  },
  "language_info": {
   "name": "python",
   "version": "3.9.1 (tags/v3.9.1:1e5d33e, Dec  7 2020, 17:08:21) [MSC v.1927 64 bit (AMD64)]"
  },
  "orig_nbformat": 4,
  "vscode": {
   "interpreter": {
    "hash": "31ad1aef13c31377c5c2cc8cda067f8ceef098a6b2549a979fc64ccd42cc5f00"
   }
  }
 },
 "nbformat": 4,
 "nbformat_minor": 2
}
